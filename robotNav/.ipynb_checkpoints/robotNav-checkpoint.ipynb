{
 "cells": [
  {
   "cell_type": "code",
   "execution_count": 4,
   "metadata": {},
   "outputs": [],
   "source": [
    "import numpy as np"
   ]
  },
  {
   "cell_type": "code",
   "execution_count": 5,
   "metadata": {},
   "outputs": [],
   "source": [
    "class grid :\n",
    "    def __init__(self):\n",
    "        self.dimension = int(input(\"Enter the dimension of the grid: \"))\n",
    "        self.mat = np.reshape([0]*self.dimension*self.dimension, (self.dimension, self.dimension))\n",
    "    \n",
    "        print(\"Enter the grid matrix: \")\n",
    "        for i in range(self.dimension):\n",
    "            temp = input().strip().split()\n",
    "            for j, x in zip(range(self.dimension), temp):\n",
    "                self.mat[i][j] = int(x)\n",
    "        \n",
    "        print(\"Enter the starting position \")\n",
    "        temp = input().strip().split()\n",
    "        self.x = int(temp[0])\n",
    "        self.y = int(temp[1])\n",
    "        \n",
    "        if(self.mat[self.x][self.y] == 0):\n",
    "            print(\"Invalid Entry point!\")\n",
    "            return None\n",
    "        \n",
    "        print(\"Enter the final position \")\n",
    "        temp = input().strip().split()\n",
    "        self.fx = int(temp[0])\n",
    "        self.fy = int(temp[1])\n",
    "        \n",
    "        if(self.mat[self.fx][self.fy] == 0):\n",
    "            print(\"Invalid Final position!\")\n",
    "            return None\n",
    "\n",
    "    def up(self):\n",
    "        if(self.x == 0):\n",
    "            return False\n",
    "        if(self.mat[self.x - 1][self.y] == 0):\n",
    "            return False\n",
    "        self.x -= 1\n",
    "        return True\n",
    "    def down(self):\n",
    "        if(self.x == self.dimension - 1):\n",
    "            return False\n",
    "        if(self.mat[self.x + 1][self.y] == 0):\n",
    "            return False\n",
    "        self.x +=1\n",
    "        return True\n",
    "    def left(self):\n",
    "        if(self.y == 0):\n",
    "            return False\n",
    "        if(self.mat[self.x][self.y - 1] == 0):\n",
    "            return False\n",
    "        self.y -= 1\n",
    "        return False\n",
    "    def right(self):\n",
    "        if(self.y == self.dimension - 1):\n",
    "            return False\n",
    "        if(self.mat[self.x][self.y + 1] == 0):\n",
    "            return False\n",
    "        self.y += 1\n",
    "        return True\n",
    "    "
   ]
  },
  {
   "cell_type": "code",
   "execution_count": 6,
   "metadata": {},
   "outputs": [
    {
     "name": "stdout",
     "output_type": "stream",
     "text": [
      "Enter the dimension of the grid: 5\n",
      "Enter the grid matrix: \n",
      "1 1 0 1 1\n",
      "1 1 1 1 1\n",
      "1 0 0 1 0\n",
      "1 0 0 1 1\n",
      "0 0 0 1 1\n",
      "Enter the starting position \n",
      "1 1\n"
     ]
    },
    {
     "ename": "NameError",
     "evalue": "name 'mat' is not defined",
     "output_type": "error",
     "traceback": [
      "\u001b[0;31m---------------------------------------------------------------------------\u001b[0m",
      "\u001b[0;31mNameError\u001b[0m                                 Traceback (most recent call last)",
      "\u001b[0;32m<ipython-input-6-891d88993818>\u001b[0m in \u001b[0;36m<module>\u001b[0;34m()\u001b[0m\n\u001b[0;32m----> 1\u001b[0;31m \u001b[0mG\u001b[0m \u001b[0;34m=\u001b[0m \u001b[0mgrid\u001b[0m\u001b[0;34m(\u001b[0m\u001b[0;34m)\u001b[0m\u001b[0;34m\u001b[0m\u001b[0m\n\u001b[0m",
      "\u001b[0;32m<ipython-input-5-e93c828cad98>\u001b[0m in \u001b[0;36m__init__\u001b[0;34m(self)\u001b[0m\n\u001b[1;32m     15\u001b[0m         \u001b[0mself\u001b[0m\u001b[0;34m.\u001b[0m\u001b[0my\u001b[0m \u001b[0;34m=\u001b[0m \u001b[0mint\u001b[0m\u001b[0;34m(\u001b[0m\u001b[0mtemp\u001b[0m\u001b[0;34m[\u001b[0m\u001b[0;36m1\u001b[0m\u001b[0;34m]\u001b[0m\u001b[0;34m)\u001b[0m\u001b[0;34m\u001b[0m\u001b[0m\n\u001b[1;32m     16\u001b[0m \u001b[0;34m\u001b[0m\u001b[0m\n\u001b[0;32m---> 17\u001b[0;31m         \u001b[0;32mif\u001b[0m\u001b[0;34m(\u001b[0m\u001b[0mmat\u001b[0m\u001b[0;34m[\u001b[0m\u001b[0mself\u001b[0m\u001b[0;34m.\u001b[0m\u001b[0mx\u001b[0m\u001b[0;34m]\u001b[0m\u001b[0;34m[\u001b[0m\u001b[0mself\u001b[0m\u001b[0;34m.\u001b[0m\u001b[0my\u001b[0m\u001b[0;34m]\u001b[0m \u001b[0;34m==\u001b[0m \u001b[0;36m0\u001b[0m\u001b[0;34m)\u001b[0m\u001b[0;34m:\u001b[0m\u001b[0;34m\u001b[0m\u001b[0m\n\u001b[0m\u001b[1;32m     18\u001b[0m             \u001b[0mprint\u001b[0m\u001b[0;34m(\u001b[0m\u001b[0;34m\"Invalid Entry point!\"\u001b[0m\u001b[0;34m)\u001b[0m\u001b[0;34m\u001b[0m\u001b[0m\n\u001b[1;32m     19\u001b[0m             \u001b[0;32mreturn\u001b[0m \u001b[0;32mNone\u001b[0m\u001b[0;34m\u001b[0m\u001b[0m\n",
      "\u001b[0;31mNameError\u001b[0m: name 'mat' is not defined"
     ]
    }
   ],
   "source": [
    "G = grid()"
   ]
  },
  {
   "cell_type": "code",
   "execution_count": null,
   "metadata": {},
   "outputs": [],
   "source": []
  }
 ],
 "metadata": {
  "kernelspec": {
   "display_name": "Python 3",
   "language": "python",
   "name": "python3"
  },
  "language_info": {
   "codemirror_mode": {
    "name": "ipython",
    "version": 3
   },
   "file_extension": ".py",
   "mimetype": "text/x-python",
   "name": "python",
   "nbconvert_exporter": "python",
   "pygments_lexer": "ipython3",
   "version": "3.6.5"
  }
 },
 "nbformat": 4,
 "nbformat_minor": 2
}
