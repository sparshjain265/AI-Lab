{
 "cells": [
  {
   "cell_type": "code",
   "execution_count": 1,
   "metadata": {},
   "outputs": [],
   "source": [
    "import numpy as np\n",
    "from collections import defaultdict"
   ]
  },
  {
   "cell_type": "code",
   "execution_count": 2,
   "metadata": {},
   "outputs": [],
   "source": [
    "class puzzle :\n",
    "    def __init__(self, n = None) :\n",
    "        if(n == None):\n",
    "            self.dimension = int(input(\"Enter the dimension of the matrix: \"))\n",
    "            self.mat = np.reshape([0]*self.dimension*self.dimension, (self.dimension, self.dimension))\n",
    "        else:\n",
    "            self.dimension = n\n",
    "            self.mat = np.reshape([0]*n*n, (n, n))\n",
    "        self.x = -1\n",
    "        self.y = -1\n",
    "        self.goal = np.arange(1, n*n + 1).reshape(n, n)\n",
    "    \n",
    "    def getMatrix(self, mat = None, x = None, y = None) :\n",
    "        if(mat == None):\n",
    "            print(\"Enter the elements of the matrix: \")\n",
    "            for i in range(self.dimension):\n",
    "                temp = input().strip().split()\n",
    "                for j, x in zip(range(self.dimension), temp):\n",
    "                    if(x == '*'):\n",
    "                        self.mat[i][j] = self.dimension*self.dimension\n",
    "                        #print(self.mat[i][j])\n",
    "                        self.x = i\n",
    "                        self.y = j\n",
    "                    else :\n",
    "                        self.mat[i][j] = int(x)\n",
    "        else:\n",
    "            self.mat = mat\n",
    "            self.x = x\n",
    "            self.y = y\n",
    "    '''\n",
    "    def display(self) :\n",
    "        n = self.dimension\n",
    "        M = 0\n",
    "        for i in range(n) :\n",
    "            for j in range(n) :\n",
    "                M[i][j] = self.mat[i][j]\n",
    "        M[self.x][self.y] = '*'\n",
    "        print(M)\n",
    "    '''\n",
    "    def left(self) :\n",
    "        if(self.y == 0):\n",
    "            return False\n",
    "        else:\n",
    "            self.mat[self.x][self.y] = self.mat[self.x][self.y - 1]\n",
    "            self.mat[self.x][self.y - 1] = self.dimension*self.dimension\n",
    "            self.y -= 1\n",
    "            return True\n",
    "    \n",
    "    def right(self):\n",
    "        if(self.y == self.dimension - 1):\n",
    "            return False\n",
    "        else:\n",
    "            self.mat[self.x][self.y] = self.mat[self.x][self.y + 1]\n",
    "            self.mat[self.x][self.y + 1] = self.dimension*self.dimension\n",
    "            self.y += 1\n",
    "            return True\n",
    "    \n",
    "    def up(self):\n",
    "        if(self.x == 0):\n",
    "            return False\n",
    "        else:\n",
    "            self.mat[self.x][self.y] = self.mat[self.x - 1][self.y]\n",
    "            self.mat[self.x - 1][self.y] = self.dimension*self.dimension\n",
    "            self.x -= 1\n",
    "            return True\n",
    "        \n",
    "    def down(self):\n",
    "        if(self.x == self.dimension - 1):\n",
    "            return False\n",
    "        else:\n",
    "            self.mat[self.x][self.y] = self.mat[self.x + 1][self.y]\n",
    "            self.mat[self.x + 1][self.y] = self.dimension*self.dimension\n",
    "            self.x += 1\n",
    "            return True\n",
    "    \n",
    "    def parity(self):\n",
    "        s = self.dimension*2 - self.x - self.y - 2\n",
    "        #print(s)\n",
    "        for pi in range(self.dimension * self.dimension) :\n",
    "            for pj in range(pi + 1, self.dimension*self.dimension):\n",
    "                xi = pi//self.dimension\n",
    "                yi = pi%self.dimension\n",
    "                #print(str(xi) + \" \" + str(yi))\n",
    "                #if(self.mat[xi][yi] == 0):\n",
    "                #    continue\n",
    "                xj = pj//self.dimension\n",
    "                yj = pj%self.dimension\n",
    "                #print(str(xj) + \" \" + str(yj))\n",
    "                #print(str(xi) + \",\" + str(yi) + \" : \" + str(xj) + \",\" + str(yj))\n",
    "                if(self.mat[xj][yj] < self.mat[xi][yi]):\n",
    "                    #print(str(self.mat[xj][yj]) + \" \" + str(self.mat[xi][yi]))\n",
    "                    s += 1\n",
    "                    #print(s)                \n",
    "        #print(s)\n",
    "        return s%2"
   ]
  },
  {
   "cell_type": "code",
   "execution_count": 8,
   "metadata": {},
   "outputs": [
    {
     "name": "stdout",
     "output_type": "stream",
     "text": [
      "Enter the elements of the matrix: \n",
      "1 2 3 4 \n",
      "5 6 7 8\n",
      "9 10 11 *\n",
      "13 14 15 12\n"
     ]
    }
   ],
   "source": [
    "env = puzzle(4)\n",
    "env.getMatrix()"
   ]
  },
  {
   "cell_type": "code",
   "execution_count": 9,
   "metadata": {},
   "outputs": [],
   "source": [
    "#use segmentries, cycle"
   ]
  },
  {
   "cell_type": "code",
   "execution_count": 10,
   "metadata": {},
   "outputs": [],
   "source": [
    "def BFS(env) :\n",
    "    index = 0\n",
    "    Q = []\n",
    "    #path = list()\n",
    "    #visited = list()\n",
    "    if(np.array_equal(env.mat, env.goal)) :\n",
    "        print(\"Hurray\")\n",
    "        return index\n",
    "    Q.append(env.mat)\n",
    "    #print(Q)\n",
    "    #visited.append(env.mat)\n",
    "    \n",
    "    while Q :\n",
    "        s = np.copy(Q.pop())\n",
    "        if(s.all() == False) :\n",
    "            index += 4\n",
    "            for i in range(4) :\n",
    "                Q.append(False)\n",
    "            continue\n",
    "        #path.append(s)\n",
    "        for i in range(4) :\n",
    "            index += 1\n",
    "            if(i == 0) :\n",
    "                if(env.left()) :\n",
    "                    #path.append(env.mat)\n",
    "                    #if(visited.count(env.mat) == 0) :\n",
    "                    if(np.array_equal(env.mat, env.goal)) :\n",
    "                        print(\"Hurray\")\n",
    "                        return index\n",
    "                    Q.append(env.mat)\n",
    "                    #visited.append(env.mat)\n",
    "                    env.right()\n",
    "                    #path.pop()\n",
    "                else :\n",
    "                    Q.append(False)\n",
    "            elif(i == 1) :\n",
    "                if(env.right()) :\n",
    "                    #path.append(env.mat)\n",
    "                    #if(visited.count(env.mat) == 0) :\n",
    "                    if(np.array_equal(env.mat, env.goal)) :\n",
    "                        print(\"Hurray\")\n",
    "                        return index\n",
    "                    Q.append(env.mat)\n",
    "                    #visited.append(env.mat)\n",
    "                    env.left()\n",
    "                    #path.pop()\n",
    "                else :\n",
    "                    Q.append(False)\n",
    "            elif(i == 2) :\n",
    "                if(env.up()) :\n",
    "                    #path.append(env.mat)\n",
    "                    #if(visited.count(env.mat) == 0) :\n",
    "                    if(np.array_equal(env.mat, env.goal)) :\n",
    "                        print(\"Hurray\")\n",
    "                        return index\n",
    "                    Q.append(env.mat)\n",
    "                    #visited.append(env.mat)\n",
    "                    env.down()\n",
    "                    #path.pop()\n",
    "                else :\n",
    "                    Q.append(False)\n",
    "            elif(i == 3) :\n",
    "                if(env.down()) :\n",
    "                    #path.append(env.mat)\n",
    "                    if(np.array_equal(env.mat, env.goal)) :\n",
    "                        print(\"Hurray\")\n",
    "                        return index\n",
    "                    Q.append(env.mat)\n",
    "                    env.up()\n",
    "                    #path.pop()\n",
    "                else :\n",
    "                    Q.append(False)\n",
    "    print(index)\n",
    "    return index\n",
    "        "
   ]
  },
  {
   "cell_type": "code",
   "execution_count": null,
   "metadata": {},
   "outputs": [],
   "source": [
    "index = BFS(env)\n",
    "#print(index)"
   ]
  },
  {
   "cell_type": "code",
   "execution_count": null,
   "metadata": {},
   "outputs": [],
   "source": [
    "def path(index) :\n",
    "    if(index == 0) :\n",
    "        print(\"Start \")\n",
    "    else :\n",
    "        curr = (index - 1) % 4\n",
    "        path((index - 1)//4)\n",
    "        p = [\"left\", \"right\", \"up\", \"down\"]\n",
    "        print(p[curr])"
   ]
  },
  {
   "cell_type": "code",
   "execution_count": 11,
   "metadata": {},
   "outputs": [
    {
     "name": "stdout",
     "output_type": "stream",
     "text": [
      "Hurray\n",
      "4\n",
      "Start \n",
      "down\n"
     ]
    }
   ],
   "source": [
    "path(index)"
   ]
  },
  {
   "cell_type": "code",
   "execution_count": null,
   "metadata": {},
   "outputs": [],
   "source": []
  },
  {
   "cell_type": "code",
   "execution_count": null,
   "metadata": {},
   "outputs": [],
   "source": []
  },
  {
   "cell_type": "code",
   "execution_count": null,
   "metadata": {},
   "outputs": [],
   "source": []
  }
 ],
 "metadata": {
  "kernelspec": {
   "display_name": "Python 3",
   "language": "python",
   "name": "python3"
  },
  "language_info": {
   "codemirror_mode": {
    "name": "ipython",
    "version": 3
   },
   "file_extension": ".py",
   "mimetype": "text/x-python",
   "name": "python",
   "nbconvert_exporter": "python",
   "pygments_lexer": "ipython3",
   "version": "3.6.5"
  }
 },
 "nbformat": 4,
 "nbformat_minor": 2
}
