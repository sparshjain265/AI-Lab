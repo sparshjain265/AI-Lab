{
 "cells": [
  {
   "cell_type": "code",
   "execution_count": 1,
   "metadata": {},
   "outputs": [],
   "source": [
    "import numpy as np\n",
    "import math\n",
    "from collections import defaultdict\n",
    "import queue\n",
    "import heapq"
   ]
  },
  {
   "cell_type": "code",
   "execution_count": 2,
   "metadata": {},
   "outputs": [],
   "source": [
    "#Take input from file\n",
    "file = open (\"input.txt\" , \"r\")\n",
    "line = file.readline()\n",
    "words = line.strip().split()\n",
    "n = int (words[0])\n",
    "node = dict()\n",
    "\n",
    "#get coordinates of nodes\n",
    "for x in range(n):\n",
    "    line = file.readline()\n",
    "    words = line.strip().split()\n",
    "    temp , coordinates = int(words[0]) , (int(words[1]) , int (words[2]))\n",
    "    temp -= 1\n",
    "    node[temp] = coordinates\n",
    "\n",
    "words = file.readline().strip().split()\n",
    "edges = int(words[0])\n",
    "\n",
    "#get edges and edge weights\n",
    "graph = [[] for _ in range(n)]\n",
    "for e in range(edges):\n",
    "    line = file.readline()\n",
    "    words = line.strip().split()\n",
    "    x , y, weight = int (words[0]) - 1 , int (words[1]) - 1 , float(words[2])\n",
    "    graph[x].append( (y , weight))\n",
    "    graph[y].append( (x , weight))\n",
    "\n",
    "#get start and goal state\n",
    "start = file.readline().strip().split()\n",
    "start = int(start[0]) - 1\n",
    "\n",
    "word = file.readline().strip().split()\n",
    "goal = int(word[0]) - 1\n",
    "\n",
    "file.close()"
   ]
  },
  {
   "cell_type": "code",
   "execution_count": 3,
   "metadata": {},
   "outputs": [
    {
     "name": "stdout",
     "output_type": "stream",
     "text": [
      "number of nodes :  17\n",
      "Nodes with there coordinates : \n",
      "{0: (0, 0), 1: (0, 1), 2: (0, 2), 3: (0, 3), 4: (1, 0), 5: (1, 1), 6: (2, 0), 7: (3, 1), 8: (3, 2), 9: (3, 3), 10: (4, 1), 11: (5, 0), 12: (5, 1), 13: (5, 2), 14: (5, 3), 15: (6, 1), 16: (6, 2)}\n",
      "Graph : \n",
      "1 [(4, 1.0), (1, 2.5)]\n",
      "2 [(0, 2.5), (2, 2.5)]\n",
      "3 [(1, 2.5), (8, 6.0), (3, 3.0), (9, 2.5)]\n",
      "4 [(2, 3.0), (9, 3.0)]\n",
      "5 [(0, 1.0), (5, 6.0)]\n",
      "6 [(4, 6.0), (6, 4.0), (7, 6.0), (8, 10.0)]\n",
      "7 [(5, 4.0), (11, 10.0)]\n",
      "8 [(5, 6.0), (10, 6.0)]\n",
      "9 [(2, 6.0), (5, 10.0), (13, 15.0), (14, 20.0)]\n",
      "10 [(2, 2.5), (3, 3.0), (14, 10.0)]\n",
      "11 [(7, 6.0), (12, 4.0)]\n",
      "12 [(6, 10.0), (12, 2.0)]\n",
      "13 [(10, 4.0), (11, 2.0), (13, 12.0), (15, 11.0)]\n",
      "14 [(8, 15.0), (12, 12.0), (14, 5.0), (16, 2.5)]\n",
      "15 [(8, 20.0), (9, 10.0), (13, 5.0)]\n",
      "16 [(12, 11.0), (16, 1.0)]\n",
      "17 [(13, 2.5), (15, 1.0)]\n",
      "Start state :  0\n",
      "Goal state :  16\n"
     ]
    }
   ],
   "source": [
    "print(\"number of nodes : \" , n)\n",
    "print(\"Nodes with there coordinates : \")\n",
    "print(node)\n",
    "\n",
    "print(\"Graph : \")\n",
    "for i in range(n):\n",
    "    print(i+1, end = \" \")\n",
    "    print(graph[i])\n",
    "\n",
    "\n",
    "print(\"Start state : \" , start)\n",
    "print(\"Goal state : \" , goal)"
   ]
  },
  {
   "cell_type": "code",
   "execution_count": 4,
   "metadata": {},
   "outputs": [],
   "source": [
    "#Euclidean Heuristic\n",
    "def heuristic(x, speed):\n",
    "    return math.sqrt((node[goal][0] - x[0])**2 + (node[goal][1] - x[1])**2) / speed"
   ]
  },
  {
   "cell_type": "code",
   "execution_count": 5,
   "metadata": {},
   "outputs": [],
   "source": [
    "#solve using a star algo\n",
    "#congestion is sent as a percentage\n",
    "def astar(congestion):\n",
    "    cycle = 25.0\n",
    "    #congestion linearly reduses bus spead to 10\n",
    "    bus = 10.0 + 40.0 * (100 - congestion)/100 \n",
    "    speed = max(cycle, bus)\n",
    "    #store the state of each node as parent, g(n), h(n)\n",
    "    state = dict()\n",
    "    visited = set()\n",
    "    Q = []\n",
    "    heapq.heapify(Q)\n",
    "    \n",
    "    for i in range(n):\n",
    "        state[i] = (-1, math.inf, heuristic(node[i], speed))\n",
    "    state[start] = (-1, 0, heuristic(node[start], speed))\n",
    "    heapq.heappush(Q, (state[start][1] + state[start][2], start))\n",
    "    \n",
    "    counter = 0\n",
    "    while Q:\n",
    "        counter += 1\n",
    "        d, curr = heapq.heappop(Q)\n",
    "        \n",
    "        if(curr == goal):\n",
    "            printPath(state)\n",
    "            return True\n",
    "        \n",
    "        visited.add(curr)\n",
    "        \n",
    "        for v in graph[curr]:\n",
    "            if(v[0] not in visited):\n",
    "                if(v[1] <= 3): #bus cannot go\n",
    "                    if(state[v[0]][1] > state[curr][1] + v[1]/cycle):\n",
    "                        state[v[0]] = (curr, state[curr][1] + v[1]/cycle, heuristic(node[v[0]], speed))            \n",
    "                        heapq.heappush(Q, (state[v[0]][1] + state[v[0]][2], v[0]))\n",
    "                else: #both can go, we go by fastest (no budget limitation)\n",
    "                    if(state[v[0]][1] > state[curr][1] + v[1]/speed):\n",
    "                        state[v[0]] = (curr, state[curr][1] + v[1]/speed, heuristic(node[v[0]], speed))\n",
    "                        heapq.heappush(Q, (state[v[0]][1] + state[v[0]][2], v[0]))\n",
    "                    \n",
    "            if(v[0] not in visited and state[v[0]][1] > state[curr][1] + v[1]):\n",
    "                state[v[0]] = (curr, state[curr][1] + v[1], heuristic(node[v[0]]))\n",
    "                heapq.heappush(Q, (state[v[0]][1] + state[v[0]][2], v[0]))\n",
    "    \n",
    "    return False"
   ]
  },
  {
   "cell_type": "code",
   "execution_count": 6,
   "metadata": {},
   "outputs": [],
   "source": [
    "def printPath(state):\n",
    "    current = goal\n",
    "    path = []\n",
    "    while(current != -1):\n",
    "        path.insert(0, current)\n",
    "        current = state[current][0]\n",
    "    print(\"Path:\", end = \" \")\n",
    "    for i in path:\n",
    "        print(i + 1, end = \" \")\n",
    "    print()\n",
    "    print(\"Total Time: \" + str(state[goal][1] * 60) + \" minutes\")"
   ]
  },
  {
   "cell_type": "code",
   "execution_count": 7,
   "metadata": {},
   "outputs": [
    {
     "name": "stdout",
     "output_type": "stream",
     "text": [
      "Path: 1 2 3 10 15 14 17 \n",
      "Total Time: 60.000000000000014 minutes\n"
     ]
    }
   ],
   "source": [
    "P = astar(100)\n",
    "if(not P):\n",
    "    print(\"Path not found\")"
   ]
  },
  {
   "cell_type": "code",
   "execution_count": null,
   "metadata": {},
   "outputs": [],
   "source": []
  }
 ],
 "metadata": {
  "kernelspec": {
   "display_name": "Python 3",
   "language": "python",
   "name": "python3"
  },
  "language_info": {
   "codemirror_mode": {
    "name": "ipython",
    "version": 3
   },
   "file_extension": ".py",
   "mimetype": "text/x-python",
   "name": "python",
   "nbconvert_exporter": "python",
   "pygments_lexer": "ipython3",
   "version": "3.6.5"
  }
 },
 "nbformat": 4,
 "nbformat_minor": 2
}
