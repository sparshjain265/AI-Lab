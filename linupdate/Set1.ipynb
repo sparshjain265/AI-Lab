{
 "cells": [
  {
   "cell_type": "code",
   "execution_count": null,
   "metadata": {},
   "outputs": [],
   "source": [
    "import numpy as np\n",
    "import random\n",
    "import math\n",
    "import matplotlib.pyplot as plt"
   ]
  },
  {
   "cell_type": "code",
   "execution_count": null,
   "metadata": {},
   "outputs": [],
   "source": [
    "t = 1000\n",
    "eta = np.random.choice([-1, 1], t)\n",
    "theta = np.zeros(t)\n",
    "T = np.arange(1, t+1,1)\n",
    "for i in range(t):\n",
    "    theta[i] = sum(eta[0:i])/(i+1)\n",
    "\n",
    "Tinv = []\n",
    "for i in T:\n",
    "    Tinv.append(1/i)\n",
    "\n",
    "sqTinv = []\n",
    "for i in Tinv:\n",
    "    sqTinv.append(math.sqrt(i))\n",
    "\n",
    "nsqTinv = []\n",
    "for i in Tinv:\n",
    "    nsqTinv.append(-1*math.sqrt(i))"
   ]
  },
  {
   "cell_type": "code",
   "execution_count": null,
   "metadata": {},
   "outputs": [],
   "source": [
    "plt.figure(figsize = (10, 10))\n",
    "plt.plot(T, eta, label = \"eta\")\n",
    "plt.plot(T, theta, label = \"theta\")\n",
    "plt.plot(T, Tinv, label = \"Tinv\")\n",
    "plt.plot(T, sqTinv, label = \"sqTinv\")\n",
    "plt.plot(T, nsqTinv, label = \"-sqTinv\")\n",
    "plt.legend()\n",
    "plt.show()"
   ]
  },
  {
   "cell_type": "code",
   "execution_count": null,
   "metadata": {},
   "outputs": [],
   "source": [
    "alpha = np.copy(Tinv)\n",
    "theta[0] = 0\n",
    "for i in range(1, t):\n",
    "    theta[i] = theta[i-1] + alpha[i] * (eta[i] - theta[i-1])\n",
    "plt.figure(figsize = (10,10))\n",
    "plt.plot(T, theta, label = \"theta\")\n",
    "plt.plot(T, Tinv, label = \"Tinv\")\n",
    "plt.plot(T, sqTinv, label = \"sqTinv\")\n",
    "plt.plot(T, nsqTinv, label = \"-sqTinv\")\n",
    "plt.legend()\n",
    "plt.show()"
   ]
  },
  {
   "cell_type": "code",
   "execution_count": null,
   "metadata": {},
   "outputs": [],
   "source": [
    "theta0 = np.copy(theta)\n",
    "theta10 = np.copy(theta)\n",
    "theta100 = np.copy(theta)\n",
    "alpha0 = np.copy(alpha)\n",
    "alpha10 = np.copy(alpha)\n",
    "alpha100 = np.copy(alpha)\n",
    "\n",
    "for i in T:\n",
    "    alpha10[i-1] = 1/(i+10)\n",
    "    alpha100[i-1] = 1/(i+100)\n",
    "\n",
    "for i in range(1, t):\n",
    "    theta10[i] = theta10[i-1] + alpha10[i] * (eta[i] - theta10[i-1])\n",
    "    theta100[i] = theta100[i-1] + alpha100[i] * (eta[i] - theta100[i-1])\n",
    "\n",
    "plt.figure(figsize=(10,10))\n",
    "    \n",
    "plt.plot(T, Tinv, label = \"Tinv\")\n",
    "plt.plot(T, sqTinv, label = \"sqTinv\")\n",
    "plt.plot(T, nsqTinv, label = \"-sqTinv\")"
   ]
  },
  {
   "cell_type": "code",
   "execution_count": null,
   "metadata": {},
   "outputs": [],
   "source": [
    "f, p = plt.subplots(3, 1, sharex=True, sharey=True, figsize=(20,20))\n",
    "p[0].plot(T, theta0, label = \"theta0\")\n",
    "p[1].plot(T, theta10, label = \"theta10\")\n",
    "p[2].plot(T, theta100, label = \"theta100\")\n",
    "f.legend()\n",
    "plt.show()"
   ]
  },
  {
   "cell_type": "code",
   "execution_count": null,
   "metadata": {},
   "outputs": [],
   "source": [
    "alpha = [0.3, 0.1, 0.03, 0.01]\n",
    "theta = np.zeros((len(alpha), t))\n",
    "f, p = plt.subplots(len(alpha), 1, sharex=True, sharey=True, figsize = (20,20))\n",
    "for i in range(len(alpha)):\n",
    "   for j in range(1, t):\n",
    "      theta[i][j] = theta[i][j-1] + alpha[i] * (eta[j] - theta[i][j-1])\n",
    "   p[i].plot(T, theta[i], label = \"theta\" + str(i))\n",
    "f.legend()\n",
    "plt.show()"
   ]
  },
  {
   "cell_type": "code",
   "execution_count": null,
   "metadata": {},
   "outputs": [],
   "source": [
    "alpha = np.copy(Tinv)\n",
    "theta = np.zeros(t)\n",
    "for i in range(1, t):\n",
    "    theta[i] = theta[i-1] + alpha[i] * (1 + eta[i] - theta[i-1])\n",
    "plt.figure(figsize=(10,10))\n",
    "plt.plot(T, theta, label = \"theta\")\n",
    "plt.plot(T, Tinv, label = \"Tinv\")\n",
    "plt.plot(T, sqTinv, label = \"sqTinv\")\n",
    "plt.plot(T, nsqTinv, label = \"-sqTinv\")\n",
    "plt.legend()\n",
    "plt.show()"
   ]
  },
  {
   "cell_type": "code",
   "execution_count": null,
   "metadata": {},
   "outputs": [],
   "source": [
    "theta0 = np.copy(theta)\n",
    "theta10 = np.copy(theta)\n",
    "theta100 = np.copy(theta)\n",
    "alpha0 = np.copy(alpha)\n",
    "alpha10 = np.copy(alpha)\n",
    "alpha100 = np.copy(alpha)\n",
    "\n",
    "for i in T:\n",
    "    alpha10[i-1] = 1/(i+10)\n",
    "    alpha100[i-1] = 1/(i+100)\n",
    "\n",
    "for i in range(1, t):\n",
    "    theta10[i] = theta10[i-1] + alpha10[i] * (1 + eta[i] - theta10[i-1])\n",
    "    theta100[i] = theta100[i-1] + alpha100[i] * (1 + eta[i] - theta100[i-1])\n",
    "\n",
    "f, p = plt.subplots(3, 1,sharex=True, sharey=True, figsize=(20,20))\n",
    "p[0].plot(T, theta0, label = \"theta0\")\n",
    "p[1].plot(T, theta10, label = \"theta10\")\n",
    "p[2].plot(T, theta100, label = \"theta100\")\n",
    "f.legend()\n",
    "plt.show()"
   ]
  },
  {
   "cell_type": "code",
   "execution_count": null,
   "metadata": {},
   "outputs": [],
   "source": [
    "alpha = [0.3, 0.1, 0.03, 0.01]\n",
    "theta = np.zeros((len(alpha), t))\n",
    "f, p = plt.subplots(len(alpha), 1, sharex=True, sharey=True, figsize=(20,20))\n",
    "for i in range(len(alpha)):\n",
    "   for j in range(1, t):\n",
    "      theta[i][j] = theta[i][j-1] + alpha[i] * (1 + eta[j] - theta[i][j-1])\n",
    "   p[i].plot(T, theta[i], label = \"theta\" + str(i))\n",
    "f.legend()\n",
    "plt.show()"
   ]
  },
  {
   "cell_type": "code",
   "execution_count": null,
   "metadata": {},
   "outputs": [],
   "source": []
  },
  {
   "cell_type": "code",
   "execution_count": null,
   "metadata": {},
   "outputs": [],
   "source": []
  }
 ],
 "metadata": {
  "kernelspec": {
   "display_name": "Python 3",
   "language": "python",
   "name": "python3"
  },
  "language_info": {
   "codemirror_mode": {
    "name": "ipython",
    "version": 3
   },
   "file_extension": ".py",
   "mimetype": "text/x-python",
   "name": "python",
   "nbconvert_exporter": "python",
   "pygments_lexer": "ipython3",
   "version": "3.6.6"
  }
 },
 "nbformat": 4,
 "nbformat_minor": 2
}
