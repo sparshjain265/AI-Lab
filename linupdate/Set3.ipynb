{
 "cells": [
  {
   "cell_type": "code",
   "execution_count": null,
   "metadata": {},
   "outputs": [],
   "source": [
    "import numpy as np\n",
    "from numpy import linalg as la\n",
    "import random\n",
    "import math\n",
    "import matplotlib.pyplot as plt"
   ]
  },
  {
   "cell_type": "code",
   "execution_count": null,
   "metadata": {},
   "outputs": [],
   "source": [
    "t = 1000\n",
    "n = np.random.choice([-1, 1], (t, 2))\n",
    "theta = np.zeros((t, 2))\n",
    "T = np.arange(1, t+1,1)\n",
    "for i in range(t):\n",
    "    for j in range(2):\n",
    "        theta[i][j] = sum(n[0:i, j])/(i+1)\n",
    "\n",
    "Tinv = []\n",
    "for i in T:\n",
    "    Tinv.append(1/i)\n",
    "\n",
    "sqTinv = []\n",
    "for i in Tinv:\n",
    "    sqTinv.append(math.sqrt(i))\n",
    "\n",
    "nsqTinv = []\n",
    "for i in Tinv:\n",
    "    nsqTinv.append(-1*math.sqrt(i))"
   ]
  },
  {
   "cell_type": "code",
   "execution_count": null,
   "metadata": {},
   "outputs": [],
   "source": [
    "alpha = [0.3, 0.1, 0.03, 0.01]\n",
    "theta = np.zeros((len(alpha), t, 2))\n",
    "norm2 = np.zeros((len(alpha), t))\n",
    "b = np.ones(2)\n",
    "f, p = plt.subplots(len(alpha), 1, sharex=True, sharey=True, figsize=(20,20))\n",
    "for i in range(len(alpha)):\n",
    "    for j in range(1, t):\n",
    "        for k in range(2):\n",
    "            theta[i][j][k] = theta[i][j-1][k] + alpha[i] * (b[k] - theta[i][j-1][k])\n",
    "        norm2[i][j] = la.norm(theta[i][j] - b)\n",
    "    p[i].plot(T, norm2[i], label = \"theta\" + str(i))\n",
    "    p[i].set_title(\"alpha = \" + str(alpha[i]))\n",
    "f.legend()\n",
    "plt.show()"
   ]
  },
  {
   "cell_type": "code",
   "execution_count": null,
   "metadata": {},
   "outputs": [],
   "source": [
    "A = [[1, 0], [0, 1]]\n",
    "A = np.asarray(A)\n",
    "alpha = [0.3, 0.1, 0.03, 0.01]\n",
    "theta = np.zeros((len(alpha), t, 2))\n",
    "norm2 = np.zeros((len(alpha), t))\n",
    "b = np.ones(2)\n",
    "f, p = plt.subplots(len(alpha), 1, sharex=True, sharey=True, figsize=(20,20))\n",
    "for i in range(len(alpha)):\n",
    "    for j in range(1, t):\n",
    "        theta[i][j] = theta[i][j-1] + alpha[i] * (b - np.matmul(A, theta[i][j-1]))\n",
    "        norm2[i][j] = la.norm(theta[i][j] - b)\n",
    "    p[i].plot(T, norm2[i], label = \"theta\" + str(i))\n",
    "    p[i].set_title(\"alpha = \" + str(alpha[i]))\n",
    "f.suptitle(\"graph\", fontsize=15)\n",
    "f.legend()\n",
    "plt.show()"
   ]
  },
  {
   "cell_type": "code",
   "execution_count": null,
   "metadata": {},
   "outputs": [],
   "source": [
    "def foo(A, b):\n",
    "    alpha = [0.3, 0.1, 0.03, 0.01]\n",
    "    theta = np.zeros((len(alpha), t, 2))\n",
    "    norm2 = np.zeros((len(alpha), t))\n",
    "    f, p = plt.subplots(len(alpha), 1, sharex=True, sharey=True, figsize=(20,20))\n",
    "    for i in range(len(alpha)):\n",
    "        for j in range(1, t):\n",
    "            theta[i][j] = theta[i][j-1] + alpha[i] * (b - np.matmul(A, theta[i][j-1]))\n",
    "            norm2[i][j] = la.norm(theta[i][j] - b)\n",
    "        p[i].plot(T, norm2[i], label = \"theta\" + str(i))\n",
    "        p[i].set_title(\"alpha = \" + str(alpha[i]))\n",
    "    f.suptitle(\"b = \" + str(b), fontsize=15)\n",
    "    f.legend()\n",
    "    plt.show()"
   ]
  },
  {
   "cell_type": "code",
   "execution_count": null,
   "metadata": {},
   "outputs": [],
   "source": [
    "B = [[1, 1], [1, -1], [10, 1]]\n",
    "A = [[2, 0], [0, 1]]\n",
    "for b in B:\n",
    "    foo(A, b)"
   ]
  },
  {
   "cell_type": "code",
   "execution_count": null,
   "metadata": {},
   "outputs": [],
   "source": [
    "A = [[1, 0], [0, 2]]\n",
    "for b in B:\n",
    "    foo(A, b)"
   ]
  },
  {
   "cell_type": "code",
   "execution_count": null,
   "metadata": {},
   "outputs": [],
   "source": [
    "A = [[1, 0.1], [-0.1, 1]]\n",
    "for b in B:\n",
    "    foo(A, b)"
   ]
  },
  {
   "cell_type": "code",
   "execution_count": null,
   "metadata": {},
   "outputs": [],
   "source": [
    "A = [[1, 1], [-1, 1]]\n",
    "for b in B:\n",
    "    foo(A, b)"
   ]
  },
  {
   "cell_type": "code",
   "execution_count": null,
   "metadata": {},
   "outputs": [],
   "source": [
    "A = [[1, 10], [-10, 1]]\n",
    "for b in B:\n",
    "    foo(A, b)"
   ]
  },
  {
   "cell_type": "code",
   "execution_count": null,
   "metadata": {},
   "outputs": [],
   "source": [
    "A = [[1, 10], [10, 1]]\n",
    "for b in B:\n",
    "    foo(A, b)"
   ]
  },
  {
   "cell_type": "code",
   "execution_count": null,
   "metadata": {},
   "outputs": [],
   "source": [
    "A = [[1, 0.1], [0.1, 1]]\n",
    "for b in B:\n",
    "    foo(A, b)"
   ]
  },
  {
   "cell_type": "code",
   "execution_count": null,
   "metadata": {},
   "outputs": [],
   "source": []
  }
 ],
 "metadata": {
  "kernelspec": {
   "display_name": "Python 3",
   "language": "python",
   "name": "python3"
  },
  "language_info": {
   "codemirror_mode": {
    "name": "ipython",
    "version": 3
   },
   "file_extension": ".py",
   "mimetype": "text/x-python",
   "name": "python",
   "nbconvert_exporter": "python",
   "pygments_lexer": "ipython3",
   "version": "3.6.6"
  }
 },
 "nbformat": 4,
 "nbformat_minor": 2
}
