{
 "cells": [
  {
   "cell_type": "code",
   "execution_count": null,
   "metadata": {},
   "outputs": [],
   "source": [
    "import numpy as np\n",
    "import random\n",
    "import math\n",
    "import matplotlib.pyplot as plt"
   ]
  },
  {
   "cell_type": "code",
   "execution_count": null,
   "metadata": {},
   "outputs": [],
   "source": [
    "t = 1000\n",
    "n = np.random.choice([-1, 1], (t, 2))\n",
    "theta = np.zeros((t, 2))\n",
    "T = np.arange(1, t+1,1)\n",
    "for i in range(t):\n",
    "    for j in range(2):\n",
    "        theta[i][j] = sum(n[0:i, j])/(i+1)\n",
    "\n",
    "Tinv = []\n",
    "for i in T:\n",
    "    Tinv.append(1/i)\n",
    "\n",
    "sqTinv = []\n",
    "for i in Tinv:\n",
    "    sqTinv.append(math.sqrt(i))\n",
    "\n",
    "nsqTinv = []\n",
    "for i in Tinv:\n",
    "    nsqTinv.append(-1*math.sqrt(i))"
   ]
  },
  {
   "cell_type": "code",
   "execution_count": null,
   "metadata": {},
   "outputs": [],
   "source": [
    "plt.figure(figsize = (10, 10))\n",
    "plt.plot(T, n, label = \"eta\")\n",
    "plt.plot(T, theta, label = \"theta\")\n",
    "plt.plot(T, Tinv, label = \"Tinv\")\n",
    "plt.plot(T, sqTinv, label = \"sqTinv\")\n",
    "plt.plot(T, nsqTinv, label = \"-sqTinv\")\n",
    "plt.legend()\n",
    "plt.show()"
   ]
  },
  {
   "cell_type": "code",
   "execution_count": null,
   "metadata": {},
   "outputs": [],
   "source": [
    "alpha = np.copy(Tinv)\n",
    "theta[0] = [0, 0]\n",
    "for i in range(1, t):\n",
    "    for j in range(2):\n",
    "        theta[i][j] = theta[i-1][j] + alpha[i] * (n[i][j] - theta[i-1][j])\n",
    "plt.figure(figsize = (10,10))\n",
    "plt.plot(T, theta, label = \"theta\")\n",
    "plt.plot(T, Tinv, label = \"Tinv\")\n",
    "plt.plot(T, sqTinv, label = \"sqTinv\")\n",
    "plt.plot(T, nsqTinv, label = \"-sqTinv\")\n",
    "plt.legend()\n",
    "plt.show()"
   ]
  },
  {
   "cell_type": "code",
   "execution_count": null,
   "metadata": {},
   "outputs": [],
   "source": [
    "theta0 = np.copy(theta)\n",
    "theta10 = np.copy(theta)\n",
    "theta100 = np.copy(theta)\n",
    "alpha0 = np.copy(alpha)\n",
    "alpha10 = np.copy(alpha)\n",
    "alpha100 = np.copy(alpha)\n",
    "\n",
    "for i in T:\n",
    "    alpha10[i-1] = 1/(i+10)\n",
    "    alpha100[i-1] = 1/(i+100)\n",
    "\n",
    "for i in range(1, t):\n",
    "    for j in range(2):\n",
    "        theta10[i][j] = theta10[i-1][j] + alpha10[i] * (n[i][j] - theta10[i-1][j])\n",
    "        theta100[i][j] = theta100[i-1][j] + alpha100[i] * (n[i][j] - theta100[i-1][j])\n",
    "\n",
    "plt.figure(figsize=(10,10))    \n",
    "plt.plot(T, Tinv, label = \"Tinv\")\n",
    "plt.plot(T, sqTinv, label = \"sqTinv\")\n",
    "plt.plot(T, nsqTinv, label = \"-sqTinv\")"
   ]
  },
  {
   "cell_type": "code",
   "execution_count": null,
   "metadata": {},
   "outputs": [],
   "source": [
    "f, p = plt.subplots(3, 1, sharex=True, sharey=True, figsize=(20,20))\n",
    "p[0].plot(T, theta0, label = \"theta0\")\n",
    "p[1].plot(T, theta10, label = \"theta10\")\n",
    "p[2].plot(T, theta100, label = \"theta100\")\n",
    "f.legend()\n",
    "plt.show()"
   ]
  },
  {
   "cell_type": "code",
   "execution_count": null,
   "metadata": {},
   "outputs": [],
   "source": [
    "alpha = [0.3, 0.1, 0.03, 0.01]\n",
    "theta = np.zeros((len(alpha), t, 2))\n",
    "f, p = plt.subplots(len(alpha), 1, sharex=True, sharey=True, figsize = (20,20))\n",
    "for i in range(len(alpha)):\n",
    "    for j in range(1, t):\n",
    "        for k in range(2):\n",
    "            theta[i][j][k] = theta[i][j-1][k] + alpha[i] * (n[j][k] - theta[i][j-1][k])\n",
    "    p[i].plot(T, theta[i], label = \"theta\" + str(i))\n",
    "f.legend()\n",
    "plt.show()"
   ]
  },
  {
   "cell_type": "code",
   "execution_count": null,
   "metadata": {},
   "outputs": [],
   "source": [
    "alpha = np.copy(Tinv)\n",
    "theta = np.zeros((t, 2))\n",
    "for i in range(1, t):\n",
    "    for j in range(2):\n",
    "        theta[i][j] = theta[i-1][j] + alpha[i] * (1 + n[i][j] - theta[i-1][j])\n",
    "plt.figure(figsize=(10,10))\n",
    "plt.plot(T, theta, label = \"theta\")\n",
    "plt.plot(T, Tinv, label = \"Tinv\")\n",
    "plt.plot(T, sqTinv, label = \"sqTinv\")\n",
    "plt.plot(T, nsqTinv, label = \"-sqTinv\")\n",
    "plt.show()"
   ]
  },
  {
   "cell_type": "code",
   "execution_count": null,
   "metadata": {},
   "outputs": [],
   "source": [
    "theta0 = np.copy(theta)\n",
    "theta10 = np.copy(theta)\n",
    "theta100 = np.copy(theta)\n",
    "alpha0 = np.copy(alpha)\n",
    "alpha10 = np.copy(alpha)\n",
    "alpha100 = np.copy(alpha)\n",
    "\n",
    "for i in T:\n",
    "    alpha10[i-1] = 1/(i+10)\n",
    "    alpha100[i-1] = 1/(i+100)\n",
    "\n",
    "for i in range(1, t):\n",
    "    for j in range(2):\n",
    "        theta10[i][j] = theta10[i-1][j] + alpha10[i] * (1 + n[i][j] - theta10[i-1][j])\n",
    "        theta100[i][j] = theta100[i-1][j] + alpha100[i] * (1 + n[i][j] - theta100[i-1][j])\n",
    "\n",
    "f, p = plt.subplots(3, 1,sharex=True, sharey=True, figsize=(20,20))\n",
    "p[0].plot(T, theta0, label = \"theta0\")\n",
    "p[1].plot(T, theta10, label = \"theta10\")\n",
    "p[2].plot(T, theta100, label = \"theta100\")\n",
    "f.legend()\n",
    "plt.show()"
   ]
  },
  {
   "cell_type": "code",
   "execution_count": null,
   "metadata": {},
   "outputs": [],
   "source": [
    "alpha = [0.3, 0.1, 0.03, 0.01]\n",
    "theta = np.zeros((len(alpha), t, 2))\n",
    "f, p = plt.subplots(len(alpha), 1, sharex=True, sharey=True, figsize=(20,20))\n",
    "for i in range(len(alpha)):\n",
    "    for j in range(1, t):\n",
    "        for k in range(2):\n",
    "            theta[i][j][k] = theta[i][j-1][k] + alpha[i] * (1 + n[j][k] - theta[i][j-1][k])\n",
    "    p[i].plot(T, theta[i], label = \"theta\" + str(i))\n",
    "f.legend()\n",
    "plt.show()"
   ]
  },
  {
   "cell_type": "code",
   "execution_count": null,
   "metadata": {},
   "outputs": [],
   "source": []
  }
 ],
 "metadata": {
  "kernelspec": {
   "display_name": "Python 3",
   "language": "python",
   "name": "python3"
  },
  "language_info": {
   "codemirror_mode": {
    "name": "ipython",
    "version": 3
   },
   "file_extension": ".py",
   "mimetype": "text/x-python",
   "name": "python",
   "nbconvert_exporter": "python",
   "pygments_lexer": "ipython3",
   "version": "3.6.6"
  }
 },
 "nbformat": 4,
 "nbformat_minor": 2
}
